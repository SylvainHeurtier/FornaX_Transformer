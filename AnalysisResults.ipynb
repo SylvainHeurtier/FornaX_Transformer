{
 "cells": [
  {
   "cell_type": "code",
   "execution_count": 2,
   "metadata": {},
   "outputs": [
    {
     "name": "stdout",
     "output_type": "stream",
     "text": [
      " \n",
      "        *** Constantes utilisees *** \n",
      "\n",
      "Nombre de colonnes SELECTED_COLUMNS_Xamin: 5\n",
      "Nombre de colonnes SELECTED_COLUMNS_input_clusters: 2\n",
      "Nombre de colonnes SELECTED_COLUMNS_input_AGN: 2\n",
      "\n",
      "Nombre de colonnes use_log_scale_Xamin: 5\n",
      "Nombre de colonnes use_log_scale_input_clusters: 2\n",
      "Nombre de colonnes use_log_scale_input_AGN: 2\n"
     ]
    }
   ],
   "source": [
    "import matplotlib.pyplot as plt\n",
    "import os\n",
    "import glob\n",
    "import numpy as np\n",
    "import astropy.units as u\n",
    "import random\n",
    "import pandas as pd\n",
    "import copy\n",
    "import json\n",
    "import numba\n",
    "import math\n",
    "import pickle\n",
    "\n",
    "from textwrap import fill\n",
    "from astropy.table import Table, vstack\n",
    "from astropy.coordinates import SkyCoord\n",
    "from astropy.io import fits\n",
    "from astropy.coordinates import search_around_sky\n",
    "from matplotlib.patches import Rectangle\n",
    "from astropy.visualization import simple_norm\n",
    "from astropy.wcs import WCS\n",
    "from sklearn.model_selection import train_test_split\n",
    "import matplotlib.colors as colors\n",
    "from astropy.coordinates import angular_separation\n",
    "import astropy.units as u\n",
    "from astropy.table import join\n",
    "from collections import Counter\n",
    "\n",
    "\n",
    "from Constantes import SELECTED_COLUMNS_Xamin, SELECTED_COLUMNS_input_clusters, SELECTED_COLUMNS_input_AGN\n",
    "from Constantes import VOCAB_SIZE, PAD_TOKEN, SEP_TOKEN, CLS_TOKEN, SEP_AMAS, SEP_AGN, NOMBRE_TOKENS_SPECIAUX\n",
    "from Constantes import BATCH_SIZE, D_MODEL, NUM_HEADS, NUM_LAYERS, name_dir\n",
    "from Constantes import name_dir"
   ]
  },
  {
   "cell_type": "code",
   "execution_count": 3,
   "metadata": {},
   "outputs": [
    {
     "name": "stdout",
     "output_type": "stream",
     "text": [
      "Nombre de sequences de test: 42612\n",
      "len(gen_seq[0]) = 24\n"
     ]
    }
   ],
   "source": [
    "X_test  = np.loadtxt(f'/local/home/sh275430/Documents/TransformerSurFenestrons/results/{name_dir}/X_test.txt', dtype=int)\n",
    "print(f\"Nombre de sequences de test: {len(X_test)}\")\n",
    "print(f\"len(gen_seq[0]) = {len(X_test[0])}\")"
   ]
  },
  {
   "cell_type": "code",
   "execution_count": 4,
   "metadata": {},
   "outputs": [
    {
     "name": "stdout",
     "output_type": "stream",
     "text": [
      "Nombre de sequences de test: 42612\n",
      "len(gen_seq[0]) = 24\n",
      "\n"
     ]
    },
    {
     "name": "stderr",
     "output_type": "stream",
     "text": [
      "/tmp/ipykernel_14768/2962736386.py:2: DeprecationWarning: numpy.core.numeric is deprecated and has been renamed to numpy._core.numeric. The numpy._core namespace contains private NumPy internals and its use is discouraged, as NumPy internals can change without warning in any release. In practice, most real-world usage of numpy.core is to access functionality in the public NumPy API. If that is the case, use the public NumPy API. If not, you are using NumPy internals. If you would still like to access an internal attribute, use numpy._core.numeric._frombuffer.\n",
      "  gen_seq = pickle.load(f)\n"
     ]
    }
   ],
   "source": [
    "with open(f'/local/home/sh275430/Documents/TransformerSurFenestrons/results/{name_dir}/generated_seq_by_imperator_test_full.pkl', 'rb') as f:\n",
    "    gen_seq = pickle.load(f)\n",
    "\n",
    "gen_seq = np.array(gen_seq)\n",
    "print(f\"Nombre de sequences de test: {len(gen_seq)}\")\n",
    "print(f\"len(gen_seq[0]) = {len(gen_seq[0])}\\n\")"
   ]
  },
  {
   "cell_type": "code",
   "execution_count": 5,
   "metadata": {},
   "outputs": [
    {
     "name": "stdout",
     "output_type": "stream",
     "text": [
      "┌───────────────────────────────┐\n",
      "│  MODEL CONFIGURATION          │\n",
      "├───────────────────────────────┤\n",
      "│ VOCAB_SIZE     :       1029   │\n",
      "│ PAD_TOKEN      :       1024   │\n",
      "│ SEP_TOKEN      :       1025   │\n",
      "│ CLS_TOKEN      :       1026   │\n",
      "│ SEP_AMAS       :       1027   │\n",
      "│ SEP_AGN        :       1028   │\n",
      "│ NOMBRE_TOKENS_SPECIAUX:          5   │\n",
      "│ MAX_SOURCES    :          2   │\n",
      "│ MAX_CLUSTERS   :          2   │\n",
      "│ MAX_AGN        :          3   │\n",
      "└───────────────────────────────┘\n"
     ]
    }
   ],
   "source": [
    "#////////// Load Configuration /////////\n",
    "with open(f\"/local/home/sh275430/Documents/TransformerSurFenestrons/results/{name_dir}/constantes_du_modele.json\", 'r') as f:\n",
    "    config = json.load(f)\n",
    "\n",
    "MAX_SOURCES  = config[\"MAX_SOURCES\"]\n",
    "MAX_CLUSTERS = config[\"MAX_CLUSTERS\"]\n",
    "MAX_AGN = config[\"MAX_AGN\"]\n",
    "\n",
    "print(\"┌───────────────────────────────┐\")\n",
    "print(\"│  MODEL CONFIGURATION          │\")\n",
    "print(\"├───────────────────────────────┤\")\n",
    "for key, value in config.items():\n",
    "    print(f\"│ {key.ljust(15)}: {str(value).rjust(10)}   │\")\n",
    "print(\"└───────────────────────────────┘\")"
   ]
  },
  {
   "cell_type": "code",
   "execution_count": 6,
   "metadata": {},
   "outputs": [
    {
     "name": "stdout",
     "output_type": "stream",
     "text": [
      "[1026  777  885  605  554  365 1024 1024 1024 1024 1024 1027  622  575\n",
      " 1024 1024 1028  501  510 1024 1024 1024 1024 1025]\n",
      "[1026  777  885  605  554  365 1024 1024 1024 1024 1024 1027 1024 1024\n",
      " 1024 1024 1028 1024 1024 1024 1024 1024 1024 1025]\n"
     ]
    }
   ],
   "source": [
    "num_fenetre = random.randint(0, len(gen_seq)-1)\n",
    "\n",
    "print(X_test[num_fenetre])\n",
    "print(gen_seq[num_fenetre])\n"
   ]
  },
  {
   "cell_type": "code",
   "execution_count": 7,
   "metadata": {},
   "outputs": [],
   "source": [
    "def plot_sequence(sequence, num_fenetre, x_center=512, y_center=512):\n",
    "    # Extraire les composants en supposant la structure:\n",
    "    # [CLS_TOKEN, Xamin, SEP_AMAS, amas, SEP_AGN, AGN, SEP_TOKEN]\n",
    "    sequence = sequence.tolist()\n",
    "\n",
    "    # Indices des séparateurs\n",
    "    try:\n",
    "        sep_amas_idx = sequence.index(SEP_AMAS)\n",
    "        sep_agn_idx = sequence.index(SEP_AGN)\n",
    "        sep_end_idx = sequence.index(SEP_TOKEN)\n",
    "    except ValueError:\n",
    "        print(\"Séparateurs manquants dans la séquence.\")\n",
    "        return\n",
    "\n",
    "    # Extraire les sous-parties\n",
    "    xamin_part = sequence[1:sep_amas_idx]\n",
    "    amas_part = sequence[sep_amas_idx + 1:sep_agn_idx]\n",
    "    agn_part = sequence[sep_agn_idx + 1:sep_end_idx]\n",
    "\n",
    "    plt.figure(figsize=(6, 6))\n",
    "\n",
    "    # Plot Xamin\n",
    "    compteur_xamin = 0\n",
    "    for i in range(2, len(xamin_part), 5):\n",
    "        x, y = xamin_part[i], xamin_part[i+1]\n",
    "        if (x, y) != (1024, 1024):\n",
    "            plt.scatter(x, y, marker='s', facecolors='none', edgecolors='lightseagreen',\n",
    "                        s=100, linewidths=1.5, label='Xamin' if compteur_xamin==0 else \"\")\n",
    "            compteur_xamin += 1\n",
    "\n",
    "    compteur_output_agn, compteur_output_amas = 0, 0\n",
    "    # Plot amas (paires [x,y]) - carrés rouges vides\n",
    "    for i in range(0, len(amas_part), 2):\n",
    "        x, y = amas_part[i], amas_part[i+1]\n",
    "        if (x, y) != (1024, 1024):\n",
    "            plt.scatter(x, y, marker='s', facecolors='none', edgecolors='red',\n",
    "                      s=80, linewidths=1, label='Output Clusters' if compteur_output_amas==0 else \"\")\n",
    "            compteur_output_amas += 1\n",
    "        if (x == 1024 and y != 1024 ) or (y == 1024 and x != 1024 ):\n",
    "            print(\"Bizarre coordonnees incompletes d'un amas\")\n",
    "\n",
    "    # Plot AGN (paires [x,y]) - étoiles rouges vides\n",
    "    for i in range(0, len(agn_part), 2):\n",
    "        x, y = agn_part[i], agn_part[i+1]\n",
    "        if (x, y) != (1024, 1024):\n",
    "            plt.scatter(x, y, marker='*', facecolors='none', edgecolors='red',\n",
    "                      s=140, linewidths=1, label='Output AGN' if compteur_output_agn==0 else \"\")\n",
    "            compteur_output_agn += 1\n",
    "        if (x == 1024 and y != 1024 ) or (y == 1024 and x != 1024 ):\n",
    "            print(\"Bizarre coordonnees incompletes d'un AGN\")\n",
    "\n",
    "    # Reste du code inchangé\n",
    "    plt.axvline(x=0, color='black', linestyle='--')\n",
    "    plt.axvline(x=1024, color='black', linestyle='--')\n",
    "    plt.axhline(y=0, color='black', linestyle='--')\n",
    "    plt.axhline(y=1024, color='black', linestyle='--')\n",
    "\n",
    "    plt.xlim(-100, 1124)\n",
    "    plt.ylim(-110, 1124)\n",
    "    plt.grid(True)\n",
    "    plt.legend()\n",
    "    plt.title(f\"Visualisation de la fenêtre {num_fenetre}\")\n",
    "\n",
    "    # Ajout d'un texte d'information\n",
    "    info_text = (f\"Input Xamin: {compteur_xamin}\\n\"\n",
    "                 f\"Output AGN: {compteur_output_agn} Output Clusters: {compteur_output_amas}\")\n",
    "    plt.annotate(info_text, xy=(0.5, 0.02), xycoords='axes fraction',\n",
    "                ha='center', fontsize=9, bbox=dict(boxstyle='round', facecolor='white', alpha=0.8))\n",
    "    plt.show()"
   ]
  },
  {
   "cell_type": "code",
   "execution_count": 60,
   "metadata": {},
   "outputs": [
    {
     "name": "stdout",
     "output_type": "stream",
     "text": [
      "[1026  507  626  525  526  140  506  505  405  499  227 1027  521  520\n",
      " 1024 1024 1028  520  519  520  519 1024 1024 1025]\n",
      "[1026  507  626  525  526  140  506  505  405  499  227 1027  325 1025\n",
      "  537  525 1028  507  234  492  505  507  267 1025]\n"
     ]
    },
    {
     "data": {
      "image/png": "[encoded data removed]",
      "text/plain": [
       "<Figure size 600x600 with 1 Axes>"
      ]
     },
     "metadata": {},
     "output_type": "display_data"
    }
   ],
   "source": [
    "num_fenetre = random.randint(0, len(gen_seq)-1)\n",
    "\n",
    "print(X_test[num_fenetre])\n",
    "print(gen_seq[num_fenetre])\n",
    "\n",
    "plot_sequence(gen_seq[num_fenetre], num_fenetre)"
   ]
  },
  {
   "cell_type": "code",
   "execution_count": 9,
   "metadata": {},
   "outputs": [
    {
     "name": "stdout",
     "output_type": "stream",
     "text": [
      "[1026    0  449  504  508  260 1024 1024 1024 1024 1024 1027 1024 1024\n",
      " 1024 1024 1028  498  516 1024 1024 1024 1024 1025]\n",
      "[1026    0  449  504  508  260 1024 1024 1024 1024 1024 1027 1024 1024\n",
      " 1024 1024 1028 1024 1024 1024 1024 1024 1024 1025]\n",
      "\n",
      "\u001b[1mCatalogue AMAS:\u001b[0m\n",
      "[1024 1024 1024 1024]\n",
      "\n",
      "\u001b[1mCatalogue AGN:\u001b[0m\n",
      "[ 498  516 1024 1024 1024 1024]\n",
      "\n",
      "\u001b[1mCatalogue AMAS extrait par la fonction:\u001b[0m\n",
      "[1024 1024 1024 1024]\n",
      "\n",
      "\u001b[1mCatalogue AGN extrait par la fonction:\u001b[0m\n",
      "[1024 1024 1024 1024 1024 1024]\n"
     ]
    }
   ],
   "source": [
    "num_fenetre = random.randint(0, len(gen_seq)-1)\n",
    "\n",
    "print(X_test[num_fenetre])\n",
    "print(gen_seq[num_fenetre])\n",
    "\n",
    "indice_debut_AMAS = len(SELECTED_COLUMNS_Xamin) * MAX_SOURCES + 2\n",
    "indice_fin_AMAS   = len(SELECTED_COLUMNS_Xamin) * MAX_SOURCES + len(SELECTED_COLUMNS_input_clusters) * MAX_CLUSTERS +1\n",
    "\n",
    "print(\"\\n\\033[1mCatalogue AMAS:\\033[0m\")\n",
    "print(X_test[num_fenetre,indice_debut_AMAS:indice_fin_AMAS+1])\n",
    "\n",
    "indice_debut_AGN = len(SELECTED_COLUMNS_Xamin) * MAX_SOURCES + len(SELECTED_COLUMNS_input_clusters) * MAX_CLUSTERS + 3 \n",
    "indice_fin_AGN   = len(SELECTED_COLUMNS_Xamin) * MAX_SOURCES + len(SELECTED_COLUMNS_input_clusters) * MAX_CLUSTERS + len(SELECTED_COLUMNS_input_AGN) * MAX_AGN + 2\n",
    "\n",
    "print(\"\\n\\033[1mCatalogue AGN:\\033[0m\")\n",
    "print(X_test[num_fenetre,indice_debut_AGN:indice_fin_AGN+1])\n",
    "\n",
    "print(\"\\n\\033[1mCatalogue AMAS extrait par la fonction:\\033[0m\")\n",
    "print(gen_seq[num_fenetre,indice_debut_AMAS:indice_fin_AMAS+1])\n",
    "\n",
    "print(\"\\n\\033[1mCatalogue AGN extrait par la fonction:\\033[0m\")\n",
    "print(gen_seq[num_fenetre,indice_debut_AGN:indice_fin_AGN+1])\n"
   ]
  }
 ],
 "metadata": {
  "kernelspec": {
   "display_name": "mon_env",
   "language": "python",
   "name": "python3"
  },
  "language_info": {
   "codemirror_mode": {
    "name": "ipython",
    "version": 3
   },
   "file_extension": ".py",
   "mimetype": "text/x-python",
   "name": "python",
   "nbconvert_exporter": "python",
   "pygments_lexer": "ipython3",
   "version": "3.12.3"
  }
 },
 "nbformat": 4,
 "nbformat_minor": 2
}
